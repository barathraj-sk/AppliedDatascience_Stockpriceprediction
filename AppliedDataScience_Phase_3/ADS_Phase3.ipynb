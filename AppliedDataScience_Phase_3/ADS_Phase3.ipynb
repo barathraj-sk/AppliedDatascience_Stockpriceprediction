{
 "cells": [
  {
   "cell_type": "markdown",
   "id": "95bb45bd",
   "metadata": {},
   "source": [
    "# Date: 17-10-2023"
   ]
  },
  {
   "cell_type": "markdown",
   "id": "3be0239b",
   "metadata": {},
   "source": [
    "# Project Title: Stock Price Prediction"
   ]
  },
  {
   "cell_type": "markdown",
   "id": "96dd8307",
   "metadata": {},
   "source": [
    "# Team ID: 3879"
   ]
  },
  {
   "cell_type": "markdown",
   "id": "6a86aa86",
   "metadata": {},
   "source": [
    "###  1.Importing required packages:"
   ]
  },
  {
   "cell_type": "code",
   "execution_count": 51,
   "id": "a2c96970",
   "metadata": {},
   "outputs": [],
   "source": [
    "import pandas as pd\n",
    "import numpy as np\n",
    "import matplotlib.pyplot as plt\n",
    "from sklearn.model_selection import train_test_split\n",
    "from sklearn.preprocessing import MinMaxScaler\n",
    "import seaborn as sns\n"
   ]
  },
  {
   "cell_type": "markdown",
   "id": "32bc45c3",
   "metadata": {},
   "source": [
    "### 2. Loading the dataset:"
   ]
  },
  {
   "cell_type": "code",
   "execution_count": 2,
   "id": "ad5ca3ab",
   "metadata": {},
   "outputs": [],
   "source": [
    "data = pd.read_csv(\"MSFT.csv\")"
   ]
  },
  {
   "cell_type": "markdown",
   "id": "73262f01",
   "metadata": {},
   "source": [
    "### 3.Display the maximum columns:"
   ]
  },
  {
   "cell_type": "code",
   "execution_count": 5,
   "id": "b843cc45",
   "metadata": {},
   "outputs": [],
   "source": [
    "pd.options.display.max_columns = None"
   ]
  },
  {
   "cell_type": "code",
   "execution_count": 6,
   "id": "c72ab583",
   "metadata": {},
   "outputs": [
    {
     "data": {
      "text/html": [
       "<div>\n",
       "<style scoped>\n",
       "    .dataframe tbody tr th:only-of-type {\n",
       "        vertical-align: middle;\n",
       "    }\n",
       "\n",
       "    .dataframe tbody tr th {\n",
       "        vertical-align: top;\n",
       "    }\n",
       "\n",
       "    .dataframe thead th {\n",
       "        text-align: right;\n",
       "    }\n",
       "</style>\n",
       "<table border=\"1\" class=\"dataframe\">\n",
       "  <thead>\n",
       "    <tr style=\"text-align: right;\">\n",
       "      <th></th>\n",
       "      <th>Date</th>\n",
       "      <th>Open</th>\n",
       "      <th>High</th>\n",
       "      <th>Low</th>\n",
       "      <th>Close</th>\n",
       "      <th>Adj Close</th>\n",
       "      <th>Volume</th>\n",
       "    </tr>\n",
       "  </thead>\n",
       "  <tbody>\n",
       "    <tr>\n",
       "      <th>0</th>\n",
       "      <td>1986-03-13</td>\n",
       "      <td>0.088542</td>\n",
       "      <td>0.101563</td>\n",
       "      <td>0.088542</td>\n",
       "      <td>0.097222</td>\n",
       "      <td>0.062549</td>\n",
       "      <td>1031788800</td>\n",
       "    </tr>\n",
       "    <tr>\n",
       "      <th>1</th>\n",
       "      <td>1986-03-14</td>\n",
       "      <td>0.097222</td>\n",
       "      <td>0.102431</td>\n",
       "      <td>0.097222</td>\n",
       "      <td>0.100694</td>\n",
       "      <td>0.064783</td>\n",
       "      <td>308160000</td>\n",
       "    </tr>\n",
       "    <tr>\n",
       "      <th>2</th>\n",
       "      <td>1986-03-17</td>\n",
       "      <td>0.100694</td>\n",
       "      <td>0.103299</td>\n",
       "      <td>0.100694</td>\n",
       "      <td>0.102431</td>\n",
       "      <td>0.065899</td>\n",
       "      <td>133171200</td>\n",
       "    </tr>\n",
       "    <tr>\n",
       "      <th>3</th>\n",
       "      <td>1986-03-18</td>\n",
       "      <td>0.102431</td>\n",
       "      <td>0.103299</td>\n",
       "      <td>0.098958</td>\n",
       "      <td>0.099826</td>\n",
       "      <td>0.064224</td>\n",
       "      <td>67766400</td>\n",
       "    </tr>\n",
       "    <tr>\n",
       "      <th>4</th>\n",
       "      <td>1986-03-19</td>\n",
       "      <td>0.099826</td>\n",
       "      <td>0.100694</td>\n",
       "      <td>0.097222</td>\n",
       "      <td>0.098090</td>\n",
       "      <td>0.063107</td>\n",
       "      <td>47894400</td>\n",
       "    </tr>\n",
       "    <tr>\n",
       "      <th>...</th>\n",
       "      <td>...</td>\n",
       "      <td>...</td>\n",
       "      <td>...</td>\n",
       "      <td>...</td>\n",
       "      <td>...</td>\n",
       "      <td>...</td>\n",
       "      <td>...</td>\n",
       "    </tr>\n",
       "    <tr>\n",
       "      <th>8520</th>\n",
       "      <td>2019-12-31</td>\n",
       "      <td>156.770004</td>\n",
       "      <td>157.770004</td>\n",
       "      <td>156.449997</td>\n",
       "      <td>157.699997</td>\n",
       "      <td>157.699997</td>\n",
       "      <td>18369400</td>\n",
       "    </tr>\n",
       "    <tr>\n",
       "      <th>8521</th>\n",
       "      <td>2020-01-02</td>\n",
       "      <td>158.779999</td>\n",
       "      <td>160.729996</td>\n",
       "      <td>158.330002</td>\n",
       "      <td>160.619995</td>\n",
       "      <td>160.619995</td>\n",
       "      <td>22622100</td>\n",
       "    </tr>\n",
       "    <tr>\n",
       "      <th>8522</th>\n",
       "      <td>2020-01-03</td>\n",
       "      <td>158.320007</td>\n",
       "      <td>159.949997</td>\n",
       "      <td>158.059998</td>\n",
       "      <td>158.619995</td>\n",
       "      <td>158.619995</td>\n",
       "      <td>21116200</td>\n",
       "    </tr>\n",
       "    <tr>\n",
       "      <th>8523</th>\n",
       "      <td>2020-01-06</td>\n",
       "      <td>157.080002</td>\n",
       "      <td>159.100006</td>\n",
       "      <td>156.509995</td>\n",
       "      <td>159.029999</td>\n",
       "      <td>159.029999</td>\n",
       "      <td>20813700</td>\n",
       "    </tr>\n",
       "    <tr>\n",
       "      <th>8524</th>\n",
       "      <td>2020-01-07</td>\n",
       "      <td>159.320007</td>\n",
       "      <td>159.669998</td>\n",
       "      <td>157.330002</td>\n",
       "      <td>157.580002</td>\n",
       "      <td>157.580002</td>\n",
       "      <td>18017762</td>\n",
       "    </tr>\n",
       "  </tbody>\n",
       "</table>\n",
       "<p>8525 rows × 7 columns</p>\n",
       "</div>"
      ],
      "text/plain": [
       "            Date        Open        High         Low       Close   Adj Close  \\\n",
       "0     1986-03-13    0.088542    0.101563    0.088542    0.097222    0.062549   \n",
       "1     1986-03-14    0.097222    0.102431    0.097222    0.100694    0.064783   \n",
       "2     1986-03-17    0.100694    0.103299    0.100694    0.102431    0.065899   \n",
       "3     1986-03-18    0.102431    0.103299    0.098958    0.099826    0.064224   \n",
       "4     1986-03-19    0.099826    0.100694    0.097222    0.098090    0.063107   \n",
       "...          ...         ...         ...         ...         ...         ...   \n",
       "8520  2019-12-31  156.770004  157.770004  156.449997  157.699997  157.699997   \n",
       "8521  2020-01-02  158.779999  160.729996  158.330002  160.619995  160.619995   \n",
       "8522  2020-01-03  158.320007  159.949997  158.059998  158.619995  158.619995   \n",
       "8523  2020-01-06  157.080002  159.100006  156.509995  159.029999  159.029999   \n",
       "8524  2020-01-07  159.320007  159.669998  157.330002  157.580002  157.580002   \n",
       "\n",
       "          Volume  \n",
       "0     1031788800  \n",
       "1      308160000  \n",
       "2      133171200  \n",
       "3       67766400  \n",
       "4       47894400  \n",
       "...          ...  \n",
       "8520    18369400  \n",
       "8521    22622100  \n",
       "8522    21116200  \n",
       "8523    20813700  \n",
       "8524    18017762  \n",
       "\n",
       "[8525 rows x 7 columns]"
      ]
     },
     "execution_count": 6,
     "metadata": {},
     "output_type": "execute_result"
    }
   ],
   "source": [
    "data"
   ]
  },
  {
   "cell_type": "markdown",
   "id": "11152b11",
   "metadata": {},
   "source": [
    "### 4.Displaying top 5 Rows of data:"
   ]
  },
  {
   "cell_type": "code",
   "execution_count": 7,
   "id": "f21419b4",
   "metadata": {},
   "outputs": [
    {
     "data": {
      "text/html": [
       "<div>\n",
       "<style scoped>\n",
       "    .dataframe tbody tr th:only-of-type {\n",
       "        vertical-align: middle;\n",
       "    }\n",
       "\n",
       "    .dataframe tbody tr th {\n",
       "        vertical-align: top;\n",
       "    }\n",
       "\n",
       "    .dataframe thead th {\n",
       "        text-align: right;\n",
       "    }\n",
       "</style>\n",
       "<table border=\"1\" class=\"dataframe\">\n",
       "  <thead>\n",
       "    <tr style=\"text-align: right;\">\n",
       "      <th></th>\n",
       "      <th>Date</th>\n",
       "      <th>Open</th>\n",
       "      <th>High</th>\n",
       "      <th>Low</th>\n",
       "      <th>Close</th>\n",
       "      <th>Adj Close</th>\n",
       "      <th>Volume</th>\n",
       "    </tr>\n",
       "  </thead>\n",
       "  <tbody>\n",
       "    <tr>\n",
       "      <th>0</th>\n",
       "      <td>1986-03-13</td>\n",
       "      <td>0.088542</td>\n",
       "      <td>0.101563</td>\n",
       "      <td>0.088542</td>\n",
       "      <td>0.097222</td>\n",
       "      <td>0.062549</td>\n",
       "      <td>1031788800</td>\n",
       "    </tr>\n",
       "    <tr>\n",
       "      <th>1</th>\n",
       "      <td>1986-03-14</td>\n",
       "      <td>0.097222</td>\n",
       "      <td>0.102431</td>\n",
       "      <td>0.097222</td>\n",
       "      <td>0.100694</td>\n",
       "      <td>0.064783</td>\n",
       "      <td>308160000</td>\n",
       "    </tr>\n",
       "    <tr>\n",
       "      <th>2</th>\n",
       "      <td>1986-03-17</td>\n",
       "      <td>0.100694</td>\n",
       "      <td>0.103299</td>\n",
       "      <td>0.100694</td>\n",
       "      <td>0.102431</td>\n",
       "      <td>0.065899</td>\n",
       "      <td>133171200</td>\n",
       "    </tr>\n",
       "    <tr>\n",
       "      <th>3</th>\n",
       "      <td>1986-03-18</td>\n",
       "      <td>0.102431</td>\n",
       "      <td>0.103299</td>\n",
       "      <td>0.098958</td>\n",
       "      <td>0.099826</td>\n",
       "      <td>0.064224</td>\n",
       "      <td>67766400</td>\n",
       "    </tr>\n",
       "    <tr>\n",
       "      <th>4</th>\n",
       "      <td>1986-03-19</td>\n",
       "      <td>0.099826</td>\n",
       "      <td>0.100694</td>\n",
       "      <td>0.097222</td>\n",
       "      <td>0.098090</td>\n",
       "      <td>0.063107</td>\n",
       "      <td>47894400</td>\n",
       "    </tr>\n",
       "  </tbody>\n",
       "</table>\n",
       "</div>"
      ],
      "text/plain": [
       "         Date      Open      High       Low     Close  Adj Close      Volume\n",
       "0  1986-03-13  0.088542  0.101563  0.088542  0.097222   0.062549  1031788800\n",
       "1  1986-03-14  0.097222  0.102431  0.097222  0.100694   0.064783   308160000\n",
       "2  1986-03-17  0.100694  0.103299  0.100694  0.102431   0.065899   133171200\n",
       "3  1986-03-18  0.102431  0.103299  0.098958  0.099826   0.064224    67766400\n",
       "4  1986-03-19  0.099826  0.100694  0.097222  0.098090   0.063107    47894400"
      ]
     },
     "execution_count": 7,
     "metadata": {},
     "output_type": "execute_result"
    }
   ],
   "source": [
    "data.head()"
   ]
  },
  {
   "cell_type": "markdown",
   "id": "86a053ae",
   "metadata": {},
   "source": [
    "### 5.Displaying last 5 rows of data:"
   ]
  },
  {
   "cell_type": "code",
   "execution_count": 9,
   "id": "f3b83df7",
   "metadata": {},
   "outputs": [
    {
     "data": {
      "text/html": [
       "<div>\n",
       "<style scoped>\n",
       "    .dataframe tbody tr th:only-of-type {\n",
       "        vertical-align: middle;\n",
       "    }\n",
       "\n",
       "    .dataframe tbody tr th {\n",
       "        vertical-align: top;\n",
       "    }\n",
       "\n",
       "    .dataframe thead th {\n",
       "        text-align: right;\n",
       "    }\n",
       "</style>\n",
       "<table border=\"1\" class=\"dataframe\">\n",
       "  <thead>\n",
       "    <tr style=\"text-align: right;\">\n",
       "      <th></th>\n",
       "      <th>Date</th>\n",
       "      <th>Open</th>\n",
       "      <th>High</th>\n",
       "      <th>Low</th>\n",
       "      <th>Close</th>\n",
       "      <th>Adj Close</th>\n",
       "      <th>Volume</th>\n",
       "    </tr>\n",
       "  </thead>\n",
       "  <tbody>\n",
       "    <tr>\n",
       "      <th>8520</th>\n",
       "      <td>2019-12-31</td>\n",
       "      <td>156.770004</td>\n",
       "      <td>157.770004</td>\n",
       "      <td>156.449997</td>\n",
       "      <td>157.699997</td>\n",
       "      <td>157.699997</td>\n",
       "      <td>18369400</td>\n",
       "    </tr>\n",
       "    <tr>\n",
       "      <th>8521</th>\n",
       "      <td>2020-01-02</td>\n",
       "      <td>158.779999</td>\n",
       "      <td>160.729996</td>\n",
       "      <td>158.330002</td>\n",
       "      <td>160.619995</td>\n",
       "      <td>160.619995</td>\n",
       "      <td>22622100</td>\n",
       "    </tr>\n",
       "    <tr>\n",
       "      <th>8522</th>\n",
       "      <td>2020-01-03</td>\n",
       "      <td>158.320007</td>\n",
       "      <td>159.949997</td>\n",
       "      <td>158.059998</td>\n",
       "      <td>158.619995</td>\n",
       "      <td>158.619995</td>\n",
       "      <td>21116200</td>\n",
       "    </tr>\n",
       "    <tr>\n",
       "      <th>8523</th>\n",
       "      <td>2020-01-06</td>\n",
       "      <td>157.080002</td>\n",
       "      <td>159.100006</td>\n",
       "      <td>156.509995</td>\n",
       "      <td>159.029999</td>\n",
       "      <td>159.029999</td>\n",
       "      <td>20813700</td>\n",
       "    </tr>\n",
       "    <tr>\n",
       "      <th>8524</th>\n",
       "      <td>2020-01-07</td>\n",
       "      <td>159.320007</td>\n",
       "      <td>159.669998</td>\n",
       "      <td>157.330002</td>\n",
       "      <td>157.580002</td>\n",
       "      <td>157.580002</td>\n",
       "      <td>18017762</td>\n",
       "    </tr>\n",
       "  </tbody>\n",
       "</table>\n",
       "</div>"
      ],
      "text/plain": [
       "            Date        Open        High         Low       Close   Adj Close  \\\n",
       "8520  2019-12-31  156.770004  157.770004  156.449997  157.699997  157.699997   \n",
       "8521  2020-01-02  158.779999  160.729996  158.330002  160.619995  160.619995   \n",
       "8522  2020-01-03  158.320007  159.949997  158.059998  158.619995  158.619995   \n",
       "8523  2020-01-06  157.080002  159.100006  156.509995  159.029999  159.029999   \n",
       "8524  2020-01-07  159.320007  159.669998  157.330002  157.580002  157.580002   \n",
       "\n",
       "        Volume  \n",
       "8520  18369400  \n",
       "8521  22622100  \n",
       "8522  21116200  \n",
       "8523  20813700  \n",
       "8524  18017762  "
      ]
     },
     "execution_count": 9,
     "metadata": {},
     "output_type": "execute_result"
    }
   ],
   "source": [
    "data.tail()"
   ]
  },
  {
   "cell_type": "markdown",
   "id": "0a181043",
   "metadata": {},
   "source": [
    "### 6.Shows number of rows and columns:"
   ]
  },
  {
   "cell_type": "code",
   "execution_count": 10,
   "id": "ac89c035",
   "metadata": {},
   "outputs": [
    {
     "name": "stdout",
     "output_type": "stream",
     "text": [
      "Number of columns  7\n",
      "Number of rows  8525\n"
     ]
    }
   ],
   "source": [
    "print(\"Number of columns \",data.shape[1])\n",
    "print(\"Number of rows \",data.shape[0])"
   ]
  },
  {
   "cell_type": "markdown",
   "id": "40845e7b",
   "metadata": {},
   "source": [
    "### 7.Getting basic information about the dataset:"
   ]
  },
  {
   "cell_type": "code",
   "execution_count": 11,
   "id": "a13380cc",
   "metadata": {},
   "outputs": [
    {
     "name": "stdout",
     "output_type": "stream",
     "text": [
      "<class 'pandas.core.frame.DataFrame'>\n",
      "RangeIndex: 8525 entries, 0 to 8524\n",
      "Data columns (total 7 columns):\n",
      " #   Column     Non-Null Count  Dtype  \n",
      "---  ------     --------------  -----  \n",
      " 0   Date       8525 non-null   object \n",
      " 1   Open       8525 non-null   float64\n",
      " 2   High       8525 non-null   float64\n",
      " 3   Low        8525 non-null   float64\n",
      " 4   Close      8525 non-null   float64\n",
      " 5   Adj Close  8525 non-null   float64\n",
      " 6   Volume     8525 non-null   int64  \n",
      "dtypes: float64(5), int64(1), object(1)\n",
      "memory usage: 466.3+ KB\n"
     ]
    }
   ],
   "source": [
    "data.info()"
   ]
  },
  {
   "cell_type": "markdown",
   "id": "764e1b26",
   "metadata": {},
   "source": [
    "### 8.Data Exploration: "
   ]
  },
  {
   "cell_type": "code",
   "execution_count": 13,
   "id": "874e5a1a",
   "metadata": {},
   "outputs": [
    {
     "data": {
      "text/plain": [
       "array(['1986-03-13', '1986-03-14', '1986-03-17', ..., '2020-01-03',\n",
       "       '2020-01-06', '2020-01-07'], dtype=object)"
      ]
     },
     "execution_count": 13,
     "metadata": {},
     "output_type": "execute_result"
    }
   ],
   "source": [
    "data['Date'].unique()"
   ]
  },
  {
   "cell_type": "code",
   "execution_count": 14,
   "id": "f5b2f0c4",
   "metadata": {},
   "outputs": [
    {
     "data": {
      "text/plain": [
       "8525"
      ]
     },
     "execution_count": 14,
     "metadata": {},
     "output_type": "execute_result"
    }
   ],
   "source": [
    "data['Date'].nunique()"
   ]
  },
  {
   "cell_type": "code",
   "execution_count": 17,
   "id": "b16461ec",
   "metadata": {},
   "outputs": [
    {
     "data": {
      "text/plain": [
       "0    1986-03-13\n",
       "1    1986-03-14\n",
       "Name: Date, dtype: object"
      ]
     },
     "execution_count": 17,
     "metadata": {},
     "output_type": "execute_result"
    }
   ],
   "source": [
    "data['Date'].head(2)"
   ]
  },
  {
   "cell_type": "markdown",
   "id": "fad2910d",
   "metadata": {},
   "source": [
    "### 9.Checking null values presence:"
   ]
  },
  {
   "cell_type": "code",
   "execution_count": 20,
   "id": "4c6f42f8",
   "metadata": {},
   "outputs": [
    {
     "data": {
      "text/plain": [
       "Date         0\n",
       "Open         0\n",
       "High         0\n",
       "Low          0\n",
       "Close        0\n",
       "Adj Close    0\n",
       "Volume       0\n",
       "dtype: int64"
      ]
     },
     "execution_count": 20,
     "metadata": {},
     "output_type": "execute_result"
    }
   ],
   "source": [
    "data.isnull().sum()"
   ]
  },
  {
   "cell_type": "markdown",
   "id": "6769bfae",
   "metadata": {},
   "source": [
    "### 10.Handling Missing Values:"
   ]
  },
  {
   "cell_type": "code",
   "execution_count": 22,
   "id": "b7f9adf2",
   "metadata": {},
   "outputs": [],
   "source": [
    "data.dropna(inplace=True)"
   ]
  },
  {
   "cell_type": "code",
   "execution_count": 23,
   "id": "d2d8cc1e",
   "metadata": {},
   "outputs": [
    {
     "name": "stdout",
     "output_type": "stream",
     "text": [
      "         Date      Open      High       Low     Close  Adj Close      Volume\n",
      "0  1986-03-13  0.088542  0.101563  0.088542  0.097222   0.062549  1031788800\n",
      "1  1986-03-14  0.097222  0.102431  0.097222  0.100694   0.064783   308160000\n",
      "2  1986-03-17  0.100694  0.103299  0.100694  0.102431   0.065899   133171200\n",
      "3  1986-03-18  0.102431  0.103299  0.098958  0.099826   0.064224    67766400\n",
      "4  1986-03-19  0.099826  0.100694  0.097222  0.098090   0.063107    47894400\n"
     ]
    }
   ],
   "source": [
    "# Print the first 5 rows of the dataframe\n",
    "print(data.head())"
   ]
  },
  {
   "cell_type": "code",
   "execution_count": 26,
   "id": "2c09fc70",
   "metadata": {},
   "outputs": [
    {
     "data": {
      "text/html": [
       "<div>\n",
       "<style scoped>\n",
       "    .dataframe tbody tr th:only-of-type {\n",
       "        vertical-align: middle;\n",
       "    }\n",
       "\n",
       "    .dataframe tbody tr th {\n",
       "        vertical-align: top;\n",
       "    }\n",
       "\n",
       "    .dataframe thead th {\n",
       "        text-align: right;\n",
       "    }\n",
       "</style>\n",
       "<table border=\"1\" class=\"dataframe\">\n",
       "  <thead>\n",
       "    <tr style=\"text-align: right;\">\n",
       "      <th></th>\n",
       "      <th>Date</th>\n",
       "      <th>Open</th>\n",
       "      <th>High</th>\n",
       "      <th>Low</th>\n",
       "      <th>Close</th>\n",
       "      <th>Adj Close</th>\n",
       "      <th>Volume</th>\n",
       "    </tr>\n",
       "  </thead>\n",
       "  <tbody>\n",
       "    <tr>\n",
       "      <th>0</th>\n",
       "      <td>1986-03-13</td>\n",
       "      <td>0.088542</td>\n",
       "      <td>0.101563</td>\n",
       "      <td>0.088542</td>\n",
       "      <td>0.097222</td>\n",
       "      <td>0.062549</td>\n",
       "      <td>1031788800</td>\n",
       "    </tr>\n",
       "    <tr>\n",
       "      <th>1</th>\n",
       "      <td>1986-03-14</td>\n",
       "      <td>0.097222</td>\n",
       "      <td>0.102431</td>\n",
       "      <td>0.097222</td>\n",
       "      <td>0.100694</td>\n",
       "      <td>0.064783</td>\n",
       "      <td>308160000</td>\n",
       "    </tr>\n",
       "    <tr>\n",
       "      <th>2</th>\n",
       "      <td>1986-03-17</td>\n",
       "      <td>0.100694</td>\n",
       "      <td>0.103299</td>\n",
       "      <td>0.100694</td>\n",
       "      <td>0.102431</td>\n",
       "      <td>0.065899</td>\n",
       "      <td>133171200</td>\n",
       "    </tr>\n",
       "    <tr>\n",
       "      <th>3</th>\n",
       "      <td>1986-03-18</td>\n",
       "      <td>0.102431</td>\n",
       "      <td>0.103299</td>\n",
       "      <td>0.098958</td>\n",
       "      <td>0.099826</td>\n",
       "      <td>0.064224</td>\n",
       "      <td>67766400</td>\n",
       "    </tr>\n",
       "    <tr>\n",
       "      <th>4</th>\n",
       "      <td>1986-03-19</td>\n",
       "      <td>0.099826</td>\n",
       "      <td>0.100694</td>\n",
       "      <td>0.097222</td>\n",
       "      <td>0.098090</td>\n",
       "      <td>0.063107</td>\n",
       "      <td>47894400</td>\n",
       "    </tr>\n",
       "    <tr>\n",
       "      <th>...</th>\n",
       "      <td>...</td>\n",
       "      <td>...</td>\n",
       "      <td>...</td>\n",
       "      <td>...</td>\n",
       "      <td>...</td>\n",
       "      <td>...</td>\n",
       "      <td>...</td>\n",
       "    </tr>\n",
       "    <tr>\n",
       "      <th>8520</th>\n",
       "      <td>2019-12-31</td>\n",
       "      <td>156.770004</td>\n",
       "      <td>157.770004</td>\n",
       "      <td>156.449997</td>\n",
       "      <td>157.699997</td>\n",
       "      <td>157.699997</td>\n",
       "      <td>18369400</td>\n",
       "    </tr>\n",
       "    <tr>\n",
       "      <th>8521</th>\n",
       "      <td>2020-01-02</td>\n",
       "      <td>158.779999</td>\n",
       "      <td>160.729996</td>\n",
       "      <td>158.330002</td>\n",
       "      <td>160.619995</td>\n",
       "      <td>160.619995</td>\n",
       "      <td>22622100</td>\n",
       "    </tr>\n",
       "    <tr>\n",
       "      <th>8522</th>\n",
       "      <td>2020-01-03</td>\n",
       "      <td>158.320007</td>\n",
       "      <td>159.949997</td>\n",
       "      <td>158.059998</td>\n",
       "      <td>158.619995</td>\n",
       "      <td>158.619995</td>\n",
       "      <td>21116200</td>\n",
       "    </tr>\n",
       "    <tr>\n",
       "      <th>8523</th>\n",
       "      <td>2020-01-06</td>\n",
       "      <td>157.080002</td>\n",
       "      <td>159.100006</td>\n",
       "      <td>156.509995</td>\n",
       "      <td>159.029999</td>\n",
       "      <td>159.029999</td>\n",
       "      <td>20813700</td>\n",
       "    </tr>\n",
       "    <tr>\n",
       "      <th>8524</th>\n",
       "      <td>2020-01-07</td>\n",
       "      <td>159.320007</td>\n",
       "      <td>159.669998</td>\n",
       "      <td>157.330002</td>\n",
       "      <td>157.580002</td>\n",
       "      <td>157.580002</td>\n",
       "      <td>18017762</td>\n",
       "    </tr>\n",
       "  </tbody>\n",
       "</table>\n",
       "<p>8525 rows × 7 columns</p>\n",
       "</div>"
      ],
      "text/plain": [
       "            Date        Open        High         Low       Close   Adj Close  \\\n",
       "0     1986-03-13    0.088542    0.101563    0.088542    0.097222    0.062549   \n",
       "1     1986-03-14    0.097222    0.102431    0.097222    0.100694    0.064783   \n",
       "2     1986-03-17    0.100694    0.103299    0.100694    0.102431    0.065899   \n",
       "3     1986-03-18    0.102431    0.103299    0.098958    0.099826    0.064224   \n",
       "4     1986-03-19    0.099826    0.100694    0.097222    0.098090    0.063107   \n",
       "...          ...         ...         ...         ...         ...         ...   \n",
       "8520  2019-12-31  156.770004  157.770004  156.449997  157.699997  157.699997   \n",
       "8521  2020-01-02  158.779999  160.729996  158.330002  160.619995  160.619995   \n",
       "8522  2020-01-03  158.320007  159.949997  158.059998  158.619995  158.619995   \n",
       "8523  2020-01-06  157.080002  159.100006  156.509995  159.029999  159.029999   \n",
       "8524  2020-01-07  159.320007  159.669998  157.330002  157.580002  157.580002   \n",
       "\n",
       "          Volume  \n",
       "0     1031788800  \n",
       "1      308160000  \n",
       "2      133171200  \n",
       "3       67766400  \n",
       "4       47894400  \n",
       "...          ...  \n",
       "8520    18369400  \n",
       "8521    22622100  \n",
       "8522    21116200  \n",
       "8523    20813700  \n",
       "8524    18017762  \n",
       "\n",
       "[8525 rows x 7 columns]"
      ]
     },
     "execution_count": 26,
     "metadata": {},
     "output_type": "execute_result"
    }
   ],
   "source": [
    "data\n"
   ]
  },
  {
   "cell_type": "markdown",
   "id": "1b4c8384",
   "metadata": {},
   "source": [
    "### 11.Split the dataset into features (X) and target (Y):\n"
   ]
  },
  {
   "cell_type": "code",
   "execution_count": null,
   "id": "d518e7d0",
   "metadata": {},
   "outputs": [],
   "source": [
    "X = df.drop('Date', axis=1)\n",
    "Y = df['Open']"
   ]
  },
  {
   "cell_type": "markdown",
   "id": "05d282a1",
   "metadata": {},
   "source": [
    "### 12.Print the shape of the training and testing sets:\n"
   ]
  },
  {
   "cell_type": "code",
   "execution_count": 43,
   "id": "544abdbe",
   "metadata": {},
   "outputs": [
    {
     "name": "stdout",
     "output_type": "stream",
     "text": [
      "X_train shape: (6820, 6)\n",
      "X_test shape: (1705, 6)\n",
      "Y_train shape: (6820,)\n",
      "Y_test shape: (1705,)\n"
     ]
    }
   ],
   "source": [
    "print('X_train shape:', X_train.shape)\n",
    "print('X_test shape:', X_test.shape)\n",
    "print('Y_train shape:', Y_train.shape)\n",
    "print('Y_test shape:', Y_test.shape)"
   ]
  },
  {
   "cell_type": "markdown",
   "id": "0e7ca0e3",
   "metadata": {},
   "source": [
    "### 13.Feature Scaling.(import StandardScaler):"
   ]
  },
  {
   "cell_type": "code",
   "execution_count": 44,
   "id": "4e0b3ec5",
   "metadata": {},
   "outputs": [],
   "source": [
    "import pandas as pd\n",
    "from sklearn.preprocessing import StandardScaler"
   ]
  },
  {
   "cell_type": "code",
   "execution_count": 45,
   "id": "5a95a547",
   "metadata": {},
   "outputs": [],
   "source": [
    "#Select the columns you want to scale\n",
    "cols_to_scale = ['Open', 'High', 'Low', 'Close', 'Adj Close', 'Volume']"
   ]
  },
  {
   "cell_type": "code",
   "execution_count": 46,
   "id": "177ea960",
   "metadata": {},
   "outputs": [],
   "source": [
    "#Create a Standard Scalar object\n",
    "scaler = StandardScaler()"
   ]
  },
  {
   "cell_type": "code",
   "execution_count": 47,
   "id": "d7040b4e",
   "metadata": {},
   "outputs": [],
   "source": [
    "#Fit the scalar to the selected coloumn\n",
    "df[cols_to_scale] = scaler.fit_transform(df[cols_to_scale])"
   ]
  },
  {
   "cell_type": "code",
   "execution_count": 48,
   "id": "80621200",
   "metadata": {},
   "outputs": [
    {
     "name": "stdout",
     "output_type": "stream",
     "text": [
      "         Date      Open      High       Low     Close  Adj Close     Volume\n",
      "0  1986-03-13 -0.982764 -0.984942 -0.981026 -0.982615  -0.828391  24.963577\n",
      "1  1986-03-14 -0.982461 -0.984912 -0.980720 -0.982494  -0.828312   6.366058\n",
      "2  1986-03-17 -0.982340 -0.984882 -0.980598 -0.982433  -0.828272   1.868783\n",
      "3  1986-03-18 -0.982279 -0.984882 -0.980659 -0.982524  -0.828331   0.187856\n",
      "4  1986-03-19 -0.982370 -0.984972 -0.980720 -0.982585  -0.828371  -0.322861\n"
     ]
    }
   ],
   "source": [
    "print(df.head())"
   ]
  },
  {
   "cell_type": "markdown",
   "id": "232e1ba3",
   "metadata": {},
   "source": [
    "### 14.Finding relationship each column using heatmap:"
   ]
  },
  {
   "cell_type": "code",
   "execution_count": 49,
   "id": "55dcb285",
   "metadata": {},
   "outputs": [
    {
     "data": {
      "image/png": "[encoded data removed]",
      "text/plain": [
       "<Figure size 640x480 with 1 Axes>"
      ]
     },
     "metadata": {},
     "output_type": "display_data"
    }
   ],
   "source": [
    "# Plot the 'Close' column\n",
    "plt.plot(df['Close'])\n",
    "plt.title('MSFT Stock Price')\n",
    "plt.xlabel('Date')\n",
    "plt.ylabel('Price')\n",
    "plt.show()"
   ]
  },
  {
   "cell_type": "code",
   "execution_count": 52,
   "id": "5cbf9b6f",
   "metadata": {},
   "outputs": [
    {
     "data": {
      "image/png": "[encoded data removed]",
      "text/plain": [
       "<Figure size 640x480 with 2 Axes>"
      ]
     },
     "metadata": {},
     "output_type": "display_data"
    }
   ],
   "source": [
    "# Load the dataset into a pandas dataframe:\n",
    "\n",
    "df = pd.read_csv('MSFT.csv', index_col=0, parse_dates=True)\n",
    "\n",
    "\n",
    "# Create a correlation matrix:\n",
    "\n",
    "corr_matrix = df.corr()\n",
    "\n",
    "\n",
    "# Create a heatmap using seaborn:\n",
    "\n",
    "sns.heatmap(corr_matrix, annot=True, cmap='coolwarm')\n",
    "plt.show()\n"
   ]
  },
  {
   "cell_type": "code",
   "execution_count": null,
   "id": "b8dd7d44",
   "metadata": {},
   "outputs": [],
   "source": []
  }
 ],
 "metadata": {
  "kernelspec": {
   "display_name": "Python 3 (ipykernel)",
   "language": "python",
   "name": "python3"
  },
  "language_info": {
   "codemirror_mode": {
    "name": "ipython",
    "version": 3
   },
   "file_extension": ".py",
   "mimetype": "text/x-python",
   "name": "python",
   "nbconvert_exporter": "python",
   "pygments_lexer": "ipython3",
   "version": "3.11.5"
  }
 },
 "nbformat": 4,
 "nbformat_minor": 5
}
